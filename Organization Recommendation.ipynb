{
 "cells": [
  {
   "cell_type": "code",
   "execution_count": null,
   "id": "f8c70624ac777ee7",
   "metadata": {
    "ExecuteTime": {
     "end_time": "2023-11-13T17:47:09.257594719Z",
     "start_time": "2023-11-13T17:47:04.652301578Z"
    },
    "collapsed": false
   },
   "outputs": [],
   "source": [
    "import pandas as pd\n",
    "\n",
    "df = pd.read_json('https://storage.googleapis.com/swe-workshop-23/organizations.json')\n",
    "df"
   ]
  },
  {
   "cell_type": "code",
   "execution_count": null,
   "id": "3ee2641bd6b01034",
   "metadata": {
    "ExecuteTime": {
     "end_time": "2023-11-13T17:28:39.308927483Z",
     "start_time": "2023-11-13T17:28:38.551331936Z"
    },
    "collapsed": false
   },
   "outputs": [],
   "source": [
    "nebula = df[df['title'] == 'Nebula Labs']\n",
    "nebula"
   ]
  },
  {
   "cell_type": "code",
   "execution_count": null,
   "id": "de0e0e6966854474",
   "metadata": {
    "ExecuteTime": {
     "end_time": "2023-11-13T17:47:46.332968778Z",
     "start_time": "2023-11-13T17:47:46.070946832Z"
    },
    "collapsed": false
   },
   "outputs": [],
   "source": [
    "from io import BytesIO\n",
    "from PIL import Image\n",
    "from base64 import b64decode\n",
    "\n",
    "encoded_image = nebula['picture_data'].iloc[0]\n",
    "Image.open(BytesIO(b64decode(encoded_image)))"
   ]
  },
  {
   "cell_type": "code",
   "execution_count": null,
   "id": "e4ab4da46dd925e4",
   "metadata": {
    "ExecuteTime": {
     "end_time": "2023-11-13T17:48:09.294676881Z",
     "start_time": "2023-11-13T17:48:08.545053241Z"
    },
    "collapsed": false
   },
   "outputs": [],
   "source": [
    "# format as documents\n",
    "\n",
    "def format_as_doc(row):\n",
    "    return f\"Title: {row['title']}\\nCategories: {', '.join(row['categories'])}\\nDescription: {row['description']}\\n\"\n",
    "\n",
    "\n",
    "df['content'] = df.apply(format_as_doc, axis=1)\n",
    "\n",
    "nebula = df[df['title'] == 'Nebula Labs']\n",
    "\n",
    "print(nebula['content'].iloc[0])"
   ]
  },
  {
   "cell_type": "code",
   "execution_count": null,
   "id": "25b0ce67126ac409",
   "metadata": {
    "ExecuteTime": {
     "end_time": "2023-11-13T17:56:34.406318247Z",
     "start_time": "2023-11-13T17:56:31.382310047Z"
    },
    "collapsed": false,
    "scrolled": true
   },
   "outputs": [],
   "source": [
    "from langchain.llms import HuggingFaceTextGenInference\n",
    "\n",
    "hf = HuggingFaceTextGenInference(\n",
    "    inference_server_url=\"https://hvxgjd4o670aom-8080.proxy.runpod.net/\",\n",
    "    max_new_tokens=512,\n",
    "    do_sample=True,\n",
    "    top_k=5,\n",
    ")\n",
    "\n",
    "response = hf(\"Hi! My name is Amrit! I'm a member of Nebula Labs, a student organization on campus dedicated to Open-Source projects built by students, for students. Today I will be talking to you about \")\n",
    "print(response)"
   ]
  },
  {
   "cell_type": "code",
   "execution_count": null,
   "id": "ed49b43484f07ec4",
   "metadata": {
    "ExecuteTime": {
     "end_time": "2023-11-13T18:47:01.479659112Z",
     "start_time": "2023-11-13T18:46:57.643960102Z"
    },
    "collapsed": false
   },
   "outputs": [],
   "source": [
    "from langchain.schema import StrOutputParser\n",
    "\n",
    "from langchain.prompts import PromptTemplate\n",
    "\n",
    "prompt = PromptTemplate.from_template(\"\"\"You are a student organization recommendation assistant. Given the user's interests, recommend a student organization on campus.\n",
    "\n",
    "User interests: {interests}\n",
    "\n",
    "Recommendation: \"\"\")\n",
    "\n",
    "chain = prompt | hf | StrOutputParser()\n",
    "response = chain.invoke({\"interests\": \"computer science, soccer\"})\n",
    "print(response)"
   ]
  },
  {
   "cell_type": "code",
   "execution_count": null,
   "id": "59db295f4acd3528",
   "metadata": {
    "ExecuteTime": {
     "end_time": "2023-11-13T18:13:20.973893165Z",
     "start_time": "2023-11-13T18:11:56.415461790Z"
    },
    "collapsed": false
   },
   "outputs": [],
   "source": [
    "from langchain.embeddings.fastembed import FastEmbedEmbeddings\n",
    "\n",
    "from langchain.vectorstores import Chroma\n",
    "\n",
    "from langchain.document_loaders import DataFrameLoader\n",
    "\n",
    "loader = DataFrameLoader(df[[\"title\", \"content\"]], page_content_column=\"content\")\n",
    "documents = loader.load()\n",
    "embeddings = FastEmbedEmbeddings(max_length=512)\n",
    "docsearch = Chroma.from_documents(documents, embeddings)"
   ]
  },
  {
   "cell_type": "code",
   "execution_count": null,
   "id": "3b9a65455d8a36a8",
   "metadata": {
    "ExecuteTime": {
     "end_time": "2023-11-13T18:34:23.075947455Z",
     "start_time": "2023-11-13T18:34:20.968610692Z"
    },
    "collapsed": false
   },
   "outputs": [],
   "source": [
    "docsearch.similarity_search(\"computer science, soccer\", k=5)"
   ]
  },
  {
   "cell_type": "code",
   "execution_count": null,
   "id": "1960c77f0ac41b8",
   "metadata": {
    "collapsed": false
   },
   "outputs": [],
   "source": [
    "from langchain.schema.runnable import RunnablePassthrough\n",
    "\n",
    "retriever = docsearch.as_retriever(search_kwargs={\"k\": 5})\n",
    "\n",
    "prompt = PromptTemplate.from_template(\n",
    "    \"\"\"You are a student organization recommendation assistant. Given the user's\n",
    "    interests and some relevent search results from the campus student\n",
    "    organization directory, recommend a student organization on campus as plain\n",
    "    text, and give a short description of the organization.\n",
    "\n",
    "User Interests: {interests}\n",
    "\n",
    "Search Results:\n",
    "=============\n",
    "{context}\n",
    "=============\n",
    "\n",
    "Given the users interests and some relvent search results from the campus student organization directory, the recommended organization is \"\"\"\n",
    ")\n",
    "\n",
    "\n",
    "def format_docs(docs):\n",
    "    return \"\\n\\n\\n\".join([d.page_content for d in docs])\n",
    "\n",
    "\n",
    "chain = (\n",
    "    {\"context\": retriever | format_docs, \"interests\": RunnablePassthrough()}\n",
    "    | prompt\n",
    "    | hf\n",
    "    | StrOutputParser()\n",
    ")"
   ]
  },
  {
   "cell_type": "code",
   "execution_count": null,
   "metadata": {},
   "outputs": [],
   "source": [
    "response = chain.invoke(\"women in stem\")\n",
    "print(response)"
   ]
  }
 ],
 "metadata": {
  "kernelspec": {
   "display_name": "Python 3 (ipykernel)",
   "language": "python",
   "name": "python3"
  },
  "language_info": {
   "codemirror_mode": {
    "name": "ipython",
    "version": 3
   },
   "file_extension": ".py",
   "mimetype": "text/x-python",
   "name": "python",
   "nbconvert_exporter": "python",
   "pygments_lexer": "ipython3",
   "version": "3.11.6"
  }
 },
 "nbformat": 4,
 "nbformat_minor": 5
}
